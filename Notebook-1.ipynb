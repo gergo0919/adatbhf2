{
    "metadata": {
        "kernelspec": {
            "name": "SQL",
            "display_name": "SQL",
            "language": "sql"
        },
        "language_info": {
            "name": "sql",
            "version": ""
        }
    },
    "nbformat_minor": 2,
    "nbformat": 4,
    "cells": [
        {
            "cell_type": "code",
            "source": [
                "\r\n",
                "CREATE LOGIN webshop_user WITH PASSWORD = 'Password125';\r\n",
                "CREATE USER webshop_user FOR LOGIN webshop_user;\r\n",
                "\r\n",
                "\r\n",
                "CREATE TABLE UGYFEL_MASZKOLT (\r\n",
                "    LOGIN VARCHAR(32) NOT NULL PRIMARY KEY,\r\n",
                "    EMAIL VARCHAR(64) MASKED WITH (FUNCTION = 'email()'), \r\n",
                "    NEV VARCHAR(64) MASKED WITH (FUNCTION = 'partial(2,\"XXXX\",2)'), \r\n",
                "    SZULEV NUMERIC(4),\r\n",
                "    NEM VARCHAR(1) MASKED WITH (FUNCTION = 'random(0,1)'), \r\n",
                "    CIM VARCHAR(128)\r\n",
                ");\r\n",
                "\r\n",
                "\r\n",
                "INSERT INTO UGYFEL_MASZKOLT (LOGIN, EMAIL, NEV, SZULEV, NEM, CIM)\r\n",
                "SELECT LOGIN, EMAIL, NEV, SZULEV, NEM, CIM\r\n",
                "FROM UGYFEL;\r\n",
                "\r\n",
                "\r\n",
                "GRANT SELECT ON UGYFEL_MASZKOLT TO webshop_user;\r\n",
                "\r\n",
                "\r\n",
                "SELECT * FROM UGYFEL_MASZKOLT;\r\n",
                ""
            ],
            "metadata": {
                "azdata_cell_guid": "326924f2-5946-4540-a6e2-81c08cd19d8c",
                "language": "sql"
            },
            "outputs": [],
            "execution_count": null
        }
    ]
}